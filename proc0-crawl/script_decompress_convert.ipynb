{
 "cells": [
  {
   "cell_type": "markdown",
   "metadata": {},
   "source": [
    "## Decompress "
   ]
  },
  {
   "cell_type": "code",
   "execution_count": 1,
   "metadata": {},
   "outputs": [],
   "source": [
    "import os\n",
    "import patoolib\n",
    "from rarfile import RarFile\n",
    "import re\n",
    "import aspose.words as aw\n",
    "from zipfile import ZipFile\n",
    "from tarfile import TarFile"
   ]
  },
  {
   "cell_type": "code",
   "execution_count": 2,
   "metadata": {},
   "outputs": [],
   "source": [
    "attm_dir = './attachments'"
   ]
  },
  {
   "cell_type": "code",
   "execution_count": 3,
   "metadata": {},
   "outputs": [
    {
     "data": {
      "text/plain": [
       "['rule-standard', 'document']"
      ]
     },
     "execution_count": 3,
     "metadata": {},
     "output_type": "execute_result"
    }
   ],
   "source": [
    "cate_attm_list = os.listdir(attm_dir)\n",
    "cate_attm_list"
   ]
  },
  {
   "cell_type": "code",
   "execution_count": 56,
   "metadata": {},
   "outputs": [
    {
     "name": "stdout",
     "output_type": "stream",
     "text": [
      "'NoneType' object has no attribute 'group'\n",
      "'NoneType' object has no attribute 'group'\n",
      "'NoneType' object has no attribute 'group'\n"
     ]
    }
   ],
   "source": [
    "ex_obj = {\n",
    "    'rar': RarFile,\n",
    "    'zip': ZipFile,\n",
    "    'tar': TarFile,\n",
    "    'tgz': TarFile,\n",
    "    'gz' : TarFile\n",
    "}\n",
    "\n",
    "for cate in cate_attm_list:\n",
    "    extensions = os.listdir(os.path.join(attm_dir, cate))\n",
    "    compress_extension_type = ['rar', 'zip', 'tar', 'tar.gz', 'tgz']\n",
    "    for ex in extensions:\n",
    "        if ex not in compress_extension_type: continue\n",
    "        fnames = os.listdir(os.path.join(attm_dir, cate, ex))\n",
    "        for fname in fnames:\n",
    "            # patoolib.extract_archive(os.path.join(attm_dir, cate, ex, fname), outdir=os.path.join(attm_dir, cate, ex))\n",
    "            id = re.search(r'^\\d+(?=-)', fname).group(0)\n",
    "            archive = ex_obj[ex](os.path.join(attm_dir, cate, ex, fname))\n",
    "            mem_list = archive.namelist()\n",
    "            for mem in mem_list:\n",
    "                try:\n",
    "                    mem_ex = re.search(r'\\.(pdf|PDF|doc|docx|DOC|DOCX|txt|TXT)$', mem.lower()).group(0).lstrip('.')\n",
    "                    content = archive.read(mem)\n",
    "                    with open(os.path.join(attm_dir, cate, mem_ex, id + '-' + mem.replace('/', '.')), 'wb') as f:\n",
    "                        f.write(content)\n",
    "                        f.close()\n",
    "                except Exception as e:\n",
    "                    print(e)\n",
    "            \n",
    "        "
   ]
  },
  {
   "cell_type": "markdown",
   "metadata": {},
   "source": [
    "## Convert .doc -> .docx"
   ]
  },
  {
   "cell_type": "code",
   "execution_count": 4,
   "metadata": {},
   "outputs": [],
   "source": [
    "import subprocess"
   ]
  },
  {
   "cell_type": "code",
   "execution_count": 7,
   "metadata": {},
   "outputs": [],
   "source": [
    "in_dir = 'pdf'\n",
    "out_dir = 'docx'\n",
    "attm_dir = './attachments'"
   ]
  },
  {
   "cell_type": "code",
   "execution_count": null,
   "metadata": {},
   "outputs": [],
   "source": [
    "for cate in os.listdir(attm_dir):\n",
    "    if cate == 'document': continue\n",
    "    if in_dir in os.listdir(os.path.join(attm_dir, cate)):\n",
    "        save_path = os.path.join(attm_dir, cate, out_dir)\n",
    "        # save_path = os.path.join(attm_dir, 'test')\n",
    "        for fname in os.listdir(os.path.join(attm_dir, cate, in_dir)):\n",
    "            fpath = os.path.join(attm_dir, cate, in_dir, fname)\n",
    "            subprocess.call(['soffice', '--headless', '--convert-to', 'docx', fpath, '--outdir', save_path])\n",
    "            subprocess.call(['mv', fpath, './attachments/rule-standard/cv'])"
   ]
  },
  {
   "cell_type": "code",
   "execution_count": 5,
   "metadata": {},
   "outputs": [],
   "source": [
    "a = os.listdir('./attachments/rule-standard/cv2/cv/')\n",
    "for fname in os.listdir('./attachments/rule-standard/cv'):\n",
    "    if fname not in a:\n",
    "        fpath = f'./attachments/rule-standard/cv/{fname}'\n",
    "        subprocess.call(['mv', fpath, './attachments/rule-standard/pdf'])"
   ]
  },
  {
   "cell_type": "markdown",
   "metadata": {},
   "source": [
    "---"
   ]
  },
  {
   "cell_type": "code",
   "execution_count": 8,
   "metadata": {},
   "outputs": [],
   "source": [
    "import fitz\n",
    "import os\n",
    "import subprocess"
   ]
  },
  {
   "cell_type": "code",
   "execution_count": 11,
   "metadata": {},
   "outputs": [
    {
     "name": "stdout",
     "output_type": "stream",
     "text": [
      "./attachments/rule-standard/pdf/160-TCVN 6170-4 2017.pdf 81\n",
      "./attachments/rule-standard/pdf/109-QCVN21.2015.BGTVT.P8D.pdf 143\n",
      "./attachments/rule-standard/pdf/195-QCVN97.2016.BGTVT.pdf 92\n",
      "./attachments/rule-standard/pdf/300-QC 54-2019.pdf 327\n",
      "./attachments/rule-standard/pdf/123-QC 03-2016.pdf 160\n",
      "./attachments/rule-standard/pdf/156-TCVN6767.4.2016.pdf 61\n",
      "./attachments/rule-standard/pdf/166-TCVN 6170-10 2019.pdf 98\n",
      "./attachments/rule-standard/pdf/6-QCVN56.2013.BGTVT.pdf 72\n",
      "./attachments/rule-standard/pdf/305-QCVN 67-2018.pdf 97\n",
      "./attachments/rule-standard/pdf/259-TCVN%2010935-1%202015.pdf 102\n",
      "./attachments/rule-standard/pdf/298-TCVN 6170-11 2020.pdf 80\n",
      "./attachments/rule-standard/pdf/113-QCVN21.2015.BGTVT.P8H.pdf 119\n",
      "./attachments/rule-standard/pdf/306-QCVN kem TT33_signed.pdf 109\n",
      "./attachments/rule-standard/pdf/265-QCVN%2008-2015.pdf 94\n",
      "./attachments/rule-standard/pdf/299-TCVN 6170-12 2020.pdf 64\n",
      "./attachments/rule-standard/pdf/95-QCVN21.2015.BGTVT.P1B.pdf 187\n",
      "./attachments/rule-standard/pdf/209-QCVN 67.2013.BGTVT.PDF 122\n",
      "./attachments/rule-standard/pdf/244-TCVN%209134%20-%20Thuat%20ngu%20Dau%20may.pdf 60\n",
      "./attachments/rule-standard/pdf/283-QC 26-2018.pdf 193\n",
      "./attachments/rule-standard/pdf/279-Sua doi 2 2017 QCVN 21 2015 BGTVT.pdf 502\n",
      "./attachments/rule-standard/pdf/225-QC 65.pdf 117\n",
      "./attachments/rule-standard/pdf/105-QCVN21.2015.BGTVT.P7B.pdf 57\n",
      "./attachments/rule-standard/pdf/143-QC 72-2014.pdf 74\n",
      "./attachments/rule-standard/pdf/98-QCVN21.2015.BGTVT.P2A.pdf 412\n",
      "./attachments/rule-standard/pdf/99-QCVN21.2015.BGTVT.P2B.pdf 209\n",
      "./attachments/rule-standard/pdf/116-QCVN21.2015.BGTVT.P11.pdf 86\n",
      "./attachments/rule-standard/pdf/294-TCVN 12823-3 2020.pdf 185\n",
      "./attachments/rule-standard/pdf/224-QC 64.pdf 76\n",
      "./attachments/rule-standard/pdf/54-QCVN38.2015.BGTVT.pdf 67\n",
      "./attachments/rule-standard/pdf/111-QCVN21.2015.BGTVT.P8F.pdf 146\n",
      "./attachments/rule-standard/pdf/268-Quy%20chuan%2018-2011.pdf 51\n",
      "./attachments/rule-standard/pdf/281-SD1 QC 81-2014.pdf 61\n",
      "./attachments/rule-standard/pdf/240-TCVN 6474 2017. Final.pdf 619\n",
      "./attachments/rule-standard/pdf/147-QC 81-2014.pdf 617\n",
      "./attachments/rule-standard/pdf/234-QCVN96_2016_BGTVT.pdf 92\n",
      "./attachments/rule-standard/pdf/243-TCVN%208784-2011-Quy%20trình%20thử%20nghiệm%20đánh%20giá%20tính%20năng%20động%20lực%20học.pdf 72\n",
      "./attachments/rule-standard/pdf/302-QC 60-2019.pdf 54\n",
      "./attachments/rule-standard/pdf/277-QC 42-2015.pdf 363\n",
      "./attachments/rule-standard/pdf/158-TCVN 6170-2 2017.pdf 165\n",
      "./attachments/rule-standard/pdf/220-Sua doi 1 2016 QCVN 21 2015 BGTVT.pdf 276\n",
      "./attachments/rule-standard/pdf/292-TCVN 12823-1 2020.pdf 328\n",
      "./attachments/rule-standard/pdf/103-QCVN21.2015.BGTVT.P6.pdf 133\n",
      "./attachments/rule-standard/pdf/51-QCVN56.2013.BGTVT.pdf 72\n",
      "./attachments/rule-standard/pdf/170-TCVN7230.2003.pdf 124\n",
      "./attachments/rule-standard/pdf/233-43-BGTVT.signed.pdf 62\n",
      "./attachments/rule-standard/pdf/262-TCVN%2011391%20-%20Phan%20mem%20cho%20cac%20he%20thong%20phong%20ve%20va%20dieu%20khien%20duong%20sat.pdf 154\n",
      "./attachments/rule-standard/pdf/303-QCVN 73-2019_15.10.2020(final)_DangCongBao (Hieu luc 04.2021).pdf 60\n",
      "./attachments/rule-standard/pdf/106-QCVN21.2015.BGTVT.P8A.pdf 84\n",
      "./attachments/rule-standard/pdf/293-TCVN 12823-2 2020.pdf 158\n",
      "./attachments/rule-standard/pdf/301-QC 73-2019.pdf 64\n",
      "./attachments/rule-standard/pdf/134-QC 56-2013.pdf 71\n",
      "./attachments/rule-standard/pdf/100-QCVN21.2015.BGTVT.P3.pdf 258\n",
      "./attachments/rule-standard/pdf/112-QCVN21.2015.BGTVT.P8G.pdf 91\n",
      "./attachments/rule-standard/pdf/163-TCVN 6170-7 2019.pdf 98\n",
      "./attachments/rule-standard/pdf/256-TCVN%209983%20-%20Thiết%20kế%20Toa%20xe.pdf 57\n",
      "./attachments/rule-standard/pdf/68-TCVN 6475 2017.pdf 453\n",
      "./attachments/rule-standard/pdf/107-QCVN21.2015.BGTVT.P8B.pdf 53\n",
      "./attachments/rule-standard/pdf/304-QCVN 102.2018 - Nồi hơi trên CTB.pdf 114\n",
      "./attachments/rule-standard/pdf/242-TCVN%208546%20-%20Thuat%20ngu%20Toa%20Xe.pdf 84\n",
      "./attachments/rule-standard/pdf/101-QCVN21.2015.BGTVT.P4.pdf 93\n",
      "./attachments/rule-standard/pdf/52-QCVN70.2014.BGTVT.pdf 56\n",
      "./attachments/rule-standard/pdf/102-QCVN21.2015.BGTVT.P5.pdf 162\n",
      "./attachments/rule-standard/pdf/104-QCVN21.2015.BGTVT.P7A.pdf 138\n",
      "./attachments/rule-standard/pdf/46-QCVN64.2015.BGTVT.pdf 79\n",
      "./attachments/rule-standard/pdf/284-Sua doi 3 2018 QCVN 21 2015 BGTVT.pdf 262\n",
      "./attachments/rule-standard/pdf/267-QCVN%2016-%202011.pdf 58\n",
      "./attachments/rule-standard/pdf/47-QCVN74.2014.BGTVT.pdf 74\n",
      "./attachments/rule-standard/pdf/115-QCVN21.2015.BGTVT.P10.pdf 80\n",
      "./attachments/rule-standard/pdf/62-QCVN692014.pdf 64\n",
      "./attachments/rule-standard/pdf/34-QCVN32.2011.BGTVT.pdf 120\n",
      "./attachments/rule-standard/pdf/149-QC 94-2016.pdf 54\n",
      "./attachments/rule-standard/pdf/93-QCVN70.pdf 56\n",
      "./attachments/rule-standard/pdf/40-QCVN15.2011.BGTVT.pdf 123\n",
      "./attachments/rule-standard/pdf/276-Sua doi 1 2017 QCVN 49 2012.pdf 78\n",
      "./attachments/rule-standard/pdf/162-TCVN 6170-6 2019.pdf 138\n",
      "./attachments/rule-standard/pdf/264-TCVN%2011806-2017.pdf 71\n",
      "./attachments/rule-standard/pdf/24-QCVN35.2010.BGTVT.pdf 60\n",
      "./attachments/rule-standard/pdf/295-TCVN 12823-4 2020.pdf 116\n",
      "./attachments/rule-standard/pdf/125-QC 23-2016.pdf 67\n",
      "./attachments/rule-standard/pdf/232-36_2016_TT-BGTVT(16118).pdf 91\n",
      "./attachments/rule-standard/pdf/223-QCVN 71-2014-BGTVT-VanBanGoc_18.2014.TT.BGTVT.1.pdf 74\n",
      "./attachments/rule-standard/pdf/110-QCVN21.2015.BGTVT.P8E.pdf 122\n"
     ]
    }
   ],
   "source": [
    "path = './attachments/rule-standard/pdf'\n",
    "\n",
    "for fname in os.listdir(path):\n",
    "    fp = os.path.join(path, fname)\n",
    "    pdf = fitz.open(fp)\n",
    "    if len(pdf) > 50:\n",
    "        print(fp, len(pdf))\n",
    "        subprocess.call(['mv', f'{fp}', './attachments/rule-standard/cv'])\n",
    "    "
   ]
  }
 ],
 "metadata": {
  "kernelspec": {
   "display_name": "kenv",
   "language": "python",
   "name": "python3"
  },
  "language_info": {
   "codemirror_mode": {
    "name": "ipython",
    "version": 3
   },
   "file_extension": ".py",
   "mimetype": "text/x-python",
   "name": "python",
   "nbconvert_exporter": "python",
   "pygments_lexer": "ipython3",
   "version": "3.8.5"
  }
 },
 "nbformat": 4,
 "nbformat_minor": 2
}
