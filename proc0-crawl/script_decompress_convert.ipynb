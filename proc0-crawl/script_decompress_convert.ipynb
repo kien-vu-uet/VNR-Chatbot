{
 "cells": [
  {
   "cell_type": "markdown",
   "metadata": {},
   "source": [
    "## Decompress "
   ]
  },
  {
   "cell_type": "code",
   "execution_count": 1,
   "metadata": {},
   "outputs": [],
   "source": [
    "import os\n",
    "import patoolib\n",
    "from rarfile import RarFile\n",
    "import re\n",
    "import aspose.words as aw\n",
    "from zipfile import ZipFile\n",
    "from tarfile import TarFile"
   ]
  },
  {
   "cell_type": "code",
   "execution_count": 2,
   "metadata": {},
   "outputs": [],
   "source": [
    "attm_dir = './attachments'"
   ]
  },
  {
   "cell_type": "code",
   "execution_count": 3,
   "metadata": {},
   "outputs": [
    {
     "data": {
      "text/plain": [
       "['rule-standard', 'document']"
      ]
     },
     "execution_count": 3,
     "metadata": {},
     "output_type": "execute_result"
    }
   ],
   "source": [
    "cate_attm_list = os.listdir(attm_dir)\n",
    "cate_attm_list"
   ]
  },
  {
   "cell_type": "code",
   "execution_count": 56,
   "metadata": {},
   "outputs": [
    {
     "name": "stdout",
     "output_type": "stream",
     "text": [
      "'NoneType' object has no attribute 'group'\n",
      "'NoneType' object has no attribute 'group'\n",
      "'NoneType' object has no attribute 'group'\n"
     ]
    }
   ],
   "source": [
    "ex_obj = {\n",
    "    'rar': RarFile,\n",
    "    'zip': ZipFile,\n",
    "    'tar': TarFile,\n",
    "    'tgz': TarFile,\n",
    "    'gz' : TarFile\n",
    "}\n",
    "\n",
    "for cate in cate_attm_list:\n",
    "    extensions = os.listdir(os.path.join(attm_dir, cate))\n",
    "    compress_extension_type = ['rar', 'zip', 'tar', 'tar.gz', 'tgz']\n",
    "    for ex in extensions:\n",
    "        if ex not in compress_extension_type: continue\n",
    "        fnames = os.listdir(os.path.join(attm_dir, cate, ex))\n",
    "        for fname in fnames:\n",
    "            # patoolib.extract_archive(os.path.join(attm_dir, cate, ex, fname), outdir=os.path.join(attm_dir, cate, ex))\n",
    "            id = re.search(r'^\\d+(?=-)', fname).group(0)\n",
    "            archive = ex_obj[ex](os.path.join(attm_dir, cate, ex, fname))\n",
    "            mem_list = archive.namelist()\n",
    "            for mem in mem_list:\n",
    "                try:\n",
    "                    mem_ex = re.search(r'\\.(pdf|PDF|doc|docx|DOC|DOCX|txt|TXT)$', mem.lower()).group(0).lstrip('.')\n",
    "                    content = archive.read(mem)\n",
    "                    with open(os.path.join(attm_dir, cate, mem_ex, id + '-' + mem.replace('/', '.')), 'wb') as f:\n",
    "                        f.write(content)\n",
    "                        f.close()\n",
    "                except Exception as e:\n",
    "                    print(e)\n",
    "            \n",
    "        "
   ]
  },
  {
   "cell_type": "markdown",
   "metadata": {},
   "source": [
    "## Convert .doc -> .docx"
   ]
  },
  {
   "cell_type": "code",
   "execution_count": 4,
   "metadata": {},
   "outputs": [],
   "source": [
    "import subprocess"
   ]
  },
  {
   "cell_type": "code",
   "execution_count": 7,
   "metadata": {},
   "outputs": [],
   "source": [
    "in_dir = 'pdf'\n",
    "out_dir = 'docx'\n",
    "attm_dir = './attachments'"
   ]
  },
  {
   "cell_type": "code",
   "execution_count": null,
   "metadata": {},
   "outputs": [],
   "source": [
    "for cate in os.listdir(attm_dir):\n",
    "    if cate == 'document': continue\n",
    "    if in_dir in os.listdir(os.path.join(attm_dir, cate)):\n",
    "        save_path = os.path.join(attm_dir, cate, out_dir)\n",
    "        # save_path = os.path.join(attm_dir, 'test')\n",
    "        for fname in os.listdir(os.path.join(attm_dir, cate, in_dir)):\n",
    "            fpath = os.path.join(attm_dir, cate, in_dir, fname)\n",
    "            subprocess.call(['soffice', '--headless', '--convert-to', 'docx', fpath, '--outdir', save_path])\n",
    "            subprocess.call(['mv', fpath, './attachments/rule-standard/cv'])"
   ]
  },
  {
   "cell_type": "code",
   "execution_count": 5,
   "metadata": {},
   "outputs": [],
   "source": [
    "a = os.listdir('./attachments/rule-standard/cv2/cv/')\n",
    "for fname in os.listdir('./attachments/rule-standard/cv'):\n",
    "    if fname not in a:\n",
    "        fpath = f'./attachments/rule-standard/cv/{fname}'\n",
    "        subprocess.call(['mv', fpath, './attachments/rule-standard/pdf'])"
   ]
  },
  {
   "cell_type": "markdown",
   "metadata": {},
   "source": [
    "---"
   ]
  },
  {
   "cell_type": "code",
   "execution_count": 2,
   "metadata": {},
   "outputs": [],
   "source": [
    "import fitz\n",
    "import os\n",
    "import subprocess\n",
    "\n",
    "from docx import Document"
   ]
  },
  {
   "cell_type": "code",
   "execution_count": 47,
   "metadata": {},
   "outputs": [],
   "source": [
    "page_count = {\n",
    "    'document': 95+124,\n",
    "    'rule-standard': 0,\n",
    "}\n",
    "\n",
    "doc_count = {\n",
    "    'document': 2,\n",
    "    'rule-standard': 0,\n",
    "}"
   ]
  },
  {
   "cell_type": "code",
   "execution_count": 51,
   "metadata": {},
   "outputs": [],
   "source": [
    "key = str(input())\n",
    "path = f'./attachments/{key}/pdf'\n",
    "\n",
    "for fname in os.listdir(path):\n",
    "    fp = os.path.join(path, fname)\n",
    "    pdf = fitz.open(fp)\n",
    "    doc_count[key] += 1\n",
    "    page_count[key] += len(pdf)\n",
    "    # if len(pdf) > 50:\n",
    "    #     print(fp, len(pdf))\n",
    "    #     subprocess.call(['mv', f'{fp}', './attachments/rule-standard/cv'])\n",
    "    "
   ]
  },
  {
   "cell_type": "code",
   "execution_count": 54,
   "metadata": {},
   "outputs": [],
   "source": [
    "for fname in os.listdir('./cv'):\n",
    "    fp = os.path.join('./cv', fname)\n",
    "    pdf = fitz.open(fp)\n",
    "    doc_count['rule-standard'] += 1\n",
    "    page_count['rule-standard'] += len(pdf)"
   ]
  },
  {
   "cell_type": "code",
   "execution_count": 61,
   "metadata": {},
   "outputs": [
    {
     "data": {
      "text/plain": [
       "{'document': 84, 'rule-standard': 190}"
      ]
     },
     "execution_count": 61,
     "metadata": {},
     "output_type": "execute_result"
    }
   ],
   "source": [
    "doc_count"
   ]
  },
  {
   "cell_type": "code",
   "execution_count": 62,
   "metadata": {},
   "outputs": [
    {
     "data": {
      "text/plain": [
       "{'document': 2217, 'rule-standard': 13920}"
      ]
     },
     "execution_count": 62,
     "metadata": {},
     "output_type": "execute_result"
    }
   ],
   "source": [
    "page_count"
   ]
  },
  {
   "cell_type": "code",
   "execution_count": 64,
   "metadata": {},
   "outputs": [
    {
     "data": {
      "text/plain": [
       "73"
      ]
     },
     "execution_count": 64,
     "metadata": {},
     "output_type": "execute_result"
    }
   ],
   "source": [
    "13920 // 190"
   ]
  },
  {
   "cell_type": "code",
   "execution_count": 59,
   "metadata": {},
   "outputs": [
    {
     "data": {
      "text/plain": [
       "35"
      ]
     },
     "execution_count": 59,
     "metadata": {},
     "output_type": "execute_result"
    }
   ],
   "source": [
    "os.listdir('./attachments/rule-standard/docx').__len__()"
   ]
  },
  {
   "cell_type": "code",
   "execution_count": 65,
   "metadata": {},
   "outputs": [],
   "source": [
    "page_count = {\n",
    "    'document': 0,\n",
    "    'rule-standard': 0,\n",
    "}\n",
    "\n",
    "doc_count = {\n",
    "    'document': 0,\n",
    "    'rule-standard': 0,\n",
    "}"
   ]
  },
  {
   "cell_type": "code",
   "execution_count": 67,
   "metadata": {},
   "outputs": [],
   "source": [
    "key = str(input())\n",
    "path = f'./attachments/{key}/docx'\n",
    "\n",
    "for fname in os.listdir(path):\n",
    "    fp = os.path.join(path, fname)\n",
    "    doc = Document(fp)\n",
    "    doc_count[key] += 1\n",
    "    page_count[key] += len(doc.sections)\n",
    "    # if len(pdf) > 50:\n",
    "    #     print(fp, len(pdf))\n",
    "    #     subprocess.call(['mv', f'{fp}', './attachments/rule-standard/cv'])\n",
    "    "
   ]
  },
  {
   "cell_type": "code",
   "execution_count": 70,
   "metadata": {},
   "outputs": [
    {
     "data": {
      "text/plain": [
       "{'document': 85, 'rule-standard': 801}"
      ]
     },
     "execution_count": 70,
     "metadata": {},
     "output_type": "execute_result"
    }
   ],
   "source": [
    "page_count"
   ]
  },
  {
   "cell_type": "code",
   "execution_count": 68,
   "metadata": {},
   "outputs": [
    {
     "name": "stdout",
     "output_type": "stream",
     "text": [
      "document 1\n",
      "rule-standard 22\n"
     ]
    }
   ],
   "source": [
    "for k, v in doc_count.items():\n",
    "    print(k, page_count[k] // v)"
   ]
  }
 ],
 "metadata": {
  "kernelspec": {
   "display_name": "kenv",
   "language": "python",
   "name": "python3"
  },
  "language_info": {
   "codemirror_mode": {
    "name": "ipython",
    "version": 3
   },
   "file_extension": ".py",
   "mimetype": "text/x-python",
   "name": "python",
   "nbconvert_exporter": "python",
   "pygments_lexer": "ipython3",
   "version": "3.8.5"
  }
 },
 "nbformat": 4,
 "nbformat_minor": 2
}
